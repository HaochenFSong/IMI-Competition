{
 "cells": [
  {
   "cell_type": "code",
   "execution_count": 5,
   "id": "95c103ef",
   "metadata": {},
   "outputs": [],
   "source": [
    "import csv\n",
    "\n",
    "# Open the input text file for reading\n",
    "with open('final_matching_results.txt', 'r') as txt_file:\n",
    "    # Read the contents of the text file into a list of lines\n",
    "    lines = txt_file.readlines()\n",
    "\n",
    "# Open the output CSV file for writing\n",
    "with open('final_matching_results.csv', 'w', newline='') as csv_file:\n",
    "    # Create a CSV writer object\n",
    "    writer = csv.writer(csv_file)\n",
    "\n",
    "    # Iterate over the lines and write each line as a CSV row\n",
    "    for line in lines:\n",
    "        writer.writerow(line.strip().split())"
   ]
  },
  {
   "cell_type": "code",
   "execution_count": 6,
   "id": "efcf4779",
   "metadata": {},
   "outputs": [],
   "source": [
    "with open('final_matching_results.csv', 'r') as input_file, open('final_matching_results_2.csv', 'w', newline='') as output_file:\n",
    "    # Create a CSV reader object\n",
    "    reader = csv.reader(input_file)\n",
    "\n",
    "    # Create a CSV writer object\n",
    "    writer = csv.writer(output_file)\n",
    "\n",
    "    # Write every other row to the output file\n",
    "    for index, row in enumerate(reader):\n",
    "        if (index + 1) % 2 == 0:\n",
    "            writer.writerow(row)"
   ]
  },
  {
   "cell_type": "code",
   "execution_count": null,
   "id": "24515cbc",
   "metadata": {},
   "outputs": [],
   "source": []
  }
 ],
 "metadata": {
  "kernelspec": {
   "display_name": "Python 3 (ipykernel)",
   "language": "python",
   "name": "python3"
  },
  "language_info": {
   "codemirror_mode": {
    "name": "ipython",
    "version": 3
   },
   "file_extension": ".py",
   "mimetype": "text/x-python",
   "name": "python",
   "nbconvert_exporter": "python",
   "pygments_lexer": "ipython3",
   "version": "3.9.7"
  }
 },
 "nbformat": 4,
 "nbformat_minor": 5
}
